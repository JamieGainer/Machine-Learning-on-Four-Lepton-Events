{
 "cells": [
  {
   "cell_type": "markdown",
   "metadata": {},
   "source": [
    "# Reading LHE and HPMC Files"
   ]
  },
  {
   "cell_type": "markdown",
   "metadata": {},
   "source": [
    "## Introduction"
   ]
  },
  {
   "cell_type": "markdown",
   "metadata": {},
   "source": [
    "MadGraph outputs event files in Les Houches Accord Event File (LHE) format.  The MadGraph/ Pythia8 interface outputs an event file in HepMC format.  (Pythia8 is used to simulate emission of colored particles from the initial state protons.)  Both of these formats are described in more detail in the markdown (.md) files in this repository."
   ]
  },
  {
   "cell_type": "markdown",
   "metadata": {},
   "source": [
    "## Methods"
   ]
  },
  {
   "cell_type": "markdown",
   "metadata": {},
   "source": [
    "### Preliminaries"
   ]
  },
  {
   "cell_type": "code",
   "execution_count": 3,
   "metadata": {
    "collapsed": true
   },
   "outputs": [],
   "source": [
    "from __future__ import print_function"
   ]
  },
  {
   "cell_type": "markdown",
   "metadata": {},
   "source": [
    "### PDG Codes for Leptons"
   ]
  },
  {
   "cell_type": "markdown",
   "metadata": {},
   "source": [
    "The dictionary below contains the particle codes used to identify leptons and antileptons.  \n",
    "These numbers are described at http://pdg.lbl.gov/2007/reviews/montecarlorpp.pdf"
   ]
  },
  {
   "cell_type": "code",
   "execution_count": 4,
   "metadata": {
    "collapsed": true
   },
   "outputs": [],
   "source": [
    "lepton_pdg_id_dict = {\n",
    "    'electron': 11,\n",
    "    'positron': -11,\n",
    "    'muon': 13,\n",
    "    'antimuon': -13\n",
    "}"
   ]
  },
  {
   "cell_type": "markdown",
   "metadata": {},
   "source": [
    "### Method to read LHE file"
   ]
  },
  {
   "cell_type": "markdown",
   "metadata": {},
   "source": [
    "This method reads an unzipped LHE file to obtain lepton data from four lepton events.  In general it will be called by read_4l_event_file, which handles unzipping the file when necessary and calls this method\n",
    "when the target file has suffix \".lhe\"."
   ]
  },
  {
   "cell_type": "code",
   "execution_count": 2,
   "metadata": {
    "collapsed": true
   },
   "outputs": [],
   "source": [
    "def read_4l_LHE_file(file_path_and_name, return_valid_event_list, final_state_dict):\n",
    "    \"\"\" Reads LHE file specified by the string file_path_and_name.\n",
    "        Returns a 20 column numpy array of valid 4 lepton events.\n",
    "        If return_valid_event_list, we return a list of the indices of events read in that\n",
    "        are valid four lepton events.\n",
    "        final_state_dict contains descriptions of what the various final states\n",
    "        ('4e', '2e2mu', or '4mu') are; this is set by other methods in this notebook\n",
    "        \"\"\"\n",
    "        \n",
    "    import numpy as np\n",
    "    \n",
    "    # fields containing relevant information in LHE convention\n",
    "    PDG_ID_FIELD, E_FIELD, PX_FIELD, PY_FIELD, PZ_FIELD = 0, 9, 6, 7, 8\n",
    "    \n",
    "    number_of_columns = 20\n",
    "    \n",
    "    with open(file_path_and_name, 'r') as event_file:\n",
    "\n",
    "        data_table = []\n",
    "        \n",
    "        if return_valid_event_list:\n",
    "            i_event = 1 # event numbering starting from 1, not 0\n",
    "            valid_event_list = []\n",
    "        \n",
    "        # read the LHE file and write the relevant info to data_table\n",
    "        in_event = False    \n",
    "        for line in event_file:\n",
    "            if \"<event>\" in line:\n",
    "                in_event = True\n",
    "                event_momentum_dict = {}\n",
    "            elif \"</event>\" in line:\n",
    "                in_event = False\n",
    "                valid_final_state = False\n",
    "                event_lepton_id_dict = {lepton: len(event_momentum_dict[lepton]) \n",
    "                                       for lepton in event_momentum_dict}\n",
    "                for final_state in final_state_dict:\n",
    "                    if final_state_dict[final_state] == event_lepton_id_dict: \n",
    "                        valid_final_state = True\n",
    "                        break\n",
    "                if valid_final_state:\n",
    "                    i_lepton = 0\n",
    "                    event_row = [0 for i in range(number_of_columns)]\n",
    "                    for lepton in event_momentum_dict:\n",
    "                        for momentum in event_momentum_dict[lepton]:\n",
    "                            event_row[i_lepton] = lepton_pdg_id_dict[lepton]\n",
    "                            for i_p, p in enumerate(momentum):\n",
    "                                event_row[4 * i_lepton + i_p] = p\n",
    "                            i_lepton += 1\n",
    "                    data_table.append(event_row)\n",
    "                    if return_valid_event_list:\n",
    "                        valid_event_list.append(i_event)\n",
    "                        i_event += 1\n",
    "            elif in_event:\n",
    "                fields = line.split()\n",
    "                for lepton, pdg_id in lepton_pdg_id_dict.items():\n",
    "                    try:\n",
    "                        line_id = int(fields[PDG_ID_FIELD]) \n",
    "                        if line_id == pdg_id:\n",
    "                            momentum = [float(fields[n]) for n in \n",
    "                                        [E_FIELD, PX_FIELD, PY_FIELD, PZ_FIELD]]\n",
    "                            if lepton in event_momentum_dict:\n",
    "                                event_momentum_dict[lepton].append(momentum)\n",
    "                            else:\n",
    "                                event_momentum_dict[lepton] = [momentum]\n",
    "                    except ValueError:\n",
    "                        pass\n",
    "                    \n",
    "    # return numpy array with event information and, if requested, a list of valid events \n",
    "    if return_valid_event_list:\n",
    "        return (np.array(data_table), valid_event_list)\n",
    "    else:\n",
    "        return np.array(data_table)"
   ]
  },
  {
   "cell_type": "markdown",
   "metadata": {},
   "source": [
    "### Method to read HepMC file"
   ]
  },
  {
   "cell_type": "markdown",
   "metadata": {},
   "source": [
    "This method reads an unzipped HepMC file to obtain lepton data from four lepton events.  In general it will be called by read_4l_event_file, which handles unzipping the file when necessary and calls this method\n",
    "when the target file has suffix \".hepmc\"."
   ]
  },
  {
   "cell_type": "code",
   "execution_count": 4,
   "metadata": {
    "collapsed": true
   },
   "outputs": [],
   "source": [
    "def read_4l_HEPMC_file(file_path_and_name, return_valid_event_list, final_state_dict):\n",
    "     \"\"\" Reads HepMC file specified by the string file_path_and_name.\n",
    "        If make_final_state_list we make a list of which final state \n",
    "        ('4e', '2e2mu', or '4mu') each event belongs to so that subsequent lists of events\n",
    "        have the same order as our LHE file.\n",
    "        final_state_dict contains descriptions of what the various final states\n",
    "        ('4e', '2e2mu', or '4mu') are; this is set by other methods in this notebook\n",
    "        \"\"\"\n",
    "           \n",
    "    # fields containing relevant information in HepMC convention\n",
    "    STATUS_field, PDG_ID_field = 8, 2\n",
    "    E_FIELD, PX_FIELD, PY_FIELD, PZ_FIELD = 6, 3, 4, 5\n",
    "    \n",
    "    with open(file_path_and_name, 'r') as event_file:\n",
    "\n",
    "        data_table = []\n",
    "        \n",
    "        if return_valid_event_list:\n",
    "            i_event = 1 # event numbering starting from 1, not 0\n",
    "            valid_event_list = []\n",
    "\n",
    "        # read the HepMC file and put the relevant info in file_momentum_dict        \n",
    "        first_event = True\n",
    "        in_event = False\n",
    "        for line in event_file:\n",
    "            if \"E\" in line.strip()[:1]:\n",
    "                in_event = True\n",
    "                if first_event:\n",
    "                    first_event = False\n",
    "                else:\n",
    "                    valid_final_state = False\n",
    "                    event_lepton_id_dict = {lepton: len(event_momentum_dict[lepton])\n",
    "                                            for lepton in event_momentum_dict}\n",
    "                    for final_state in final_state_dict:\n",
    "                        if final_state_dict[final_state] == event_lepton_id_dict: \n",
    "                            valid_final_state = True\n",
    "                            break\n",
    "                    if valid_final_state:\n",
    "                        i_lepton = 0\n",
    "                        event_row = [0 for i in range(number_of_columns)]\n",
    "                        for lepton in event_momentum_dict:\n",
    "                            for momentum in event_momentum_dict[lepton]:\n",
    "                                event_row[i_lepton] = lepton_pdg_id_dict[lepton]\n",
    "                                for i_p, p in enumerate(momentum):\n",
    "                                    event_row[4 * i_lepton + i_p] = p\n",
    "                            i_lepton += 1\n",
    "                    data_table.append(event_row)\n",
    "                    if return_valid_event_list:\n",
    "                        valid_event_list.append(i_event)\n",
    "                        i_event += 1\n",
    "                event_momentum_dict = {}\n",
    "            elif in_event:\n",
    "                fields = line.split()\n",
    "                if fields and fields[0] == 'P':\n",
    "                    try:\n",
    "                        status = int(fields[STATUS_field])\n",
    "                        if status != 1: continue\n",
    "                    except IndexError:\n",
    "                        continue\n",
    "                for lepton, pdg_id in lepton_pdg_id_dict.items():\n",
    "                    try:\n",
    "                        line_id = int(fields[PDG_ID_field])\n",
    "                        if line_id == pdg_id:\n",
    "                            momentum = [float(fields[n]) for n in \n",
    "                                        [E_FIELD, PX_FIELD, PY_FIELD, PZ_FIELD]]\n",
    "                            if lepton in event_momentum_dict:\n",
    "                                event_momentum_dict[lepton].append(momentum)\n",
    "                            else:\n",
    "                                event_momentum_dict[lepton] = [momentum]\n",
    "                    except (IndexError, ValueError) as e:\n",
    "                        pass\n",
    "                    \n",
    "    # return numpy array with event information and, if requested, a list of valid events\n",
    "    if make_final_state_list:\n",
    "        return (np.array(data_table), valid_event_list)\n",
    "    else:\n",
    "        return np.array(data_table)"
   ]
  },
  {
   "cell_type": "markdown",
   "metadata": {},
   "source": [
    "### Method to Read Event File in LHE, HepMC, or MEKD format"
   ]
  },
  {
   "cell_type": "markdown",
   "metadata": {},
   "source": [
    "This method reads a possibly zipped LHE, HepMC, or MEKD input file (for which we assume the suffixes \"dat\" or \"txt\"), returns the identity and momenta of the four leptons in four lepton events in a numpy array with shape (number_of_events, 20), and rezips the input file if it was initially zipped."
   ]
  },
  {
   "cell_type": "code",
   "execution_count": 21,
   "metadata": {
    "collapsed": true
   },
   "outputs": [],
   "source": [
    "def read_4l_event_file(file_path_and_name, return_valid_event_list = False,\n",
    "                      file_format = 'auto'):\n",
    "    \"\"\" Reads a possibly zipped LHE, HepMC, or MEKD file located at file_path_and_name \n",
    "        and returns a numpy array with shape (number_of_events, 20) containing the\n",
    "        lepton identities and momenta.\n",
    "        If return_valid_event_list then a list of the event numbers which are\n",
    "        valid four lepton events in the initial file is returned.\n",
    "        If file_format = 'auto' the type of file to read is determined from the file\n",
    "        extension after unzipping.  (MEKD input files are assumed to end in \"dat\" or \"txt\"\n",
    "        as \"mekd\" is often used for MEKD output files.)\n",
    "        Specifying (case insensitive) 'LHE', 'HepMC', or for the case of MEKD, \n",
    "        \"dat\", \"txt\", or \"mekd\", overrides this determination.  Method will return None \n",
    "        and warn the user if the correct file format cannot be determined.\n",
    "    \"\"\"\n",
    "        \n",
    "    import warnings\n",
    "    import subprocess\n",
    "\n",
    "    # dict with descriptions of final states\n",
    "    final_state_dict = {\n",
    "        '2e2mu': {\n",
    "            'electron': 1,\n",
    "            'positron': 1,\n",
    "            'muon': 1,\n",
    "            'antimuon': 1\n",
    "        },\n",
    "        '4e': {\n",
    "            'electron': 2,\n",
    "            'positron': 2,\n",
    "        },\n",
    "        '4mu': {\n",
    "            'muon': 2,\n",
    "            'antimuon': 2,            \n",
    "        }\n",
    "    }\n",
    "        \n",
    "    need_to_rezip = False\n",
    "    if file_path_and_name[-3:] == '.gz':\n",
    "        try:\n",
    "            subprocess.call(['gunzip', file_path_and_name])\n",
    "            file_path_and_name = file_path_and_name[:-3]\n",
    "            need_to_rezip = True\n",
    "        except OSError:\n",
    "            warnings.warn(\"Failure to unzip \" + file_path_and_name + \n",
    "                          \".  Probably gunzip is not installed.\")\n",
    "            return None\n",
    "\n",
    "    # Determine file type\n",
    "    if file_format == 'auto':\n",
    "        format_determined = True\n",
    "        for file_ext in ['lhe', 'hepmc', 'dat', 'txt']:\n",
    "            if file_path_and_name.endswith(file_ext):\n",
    "                file_format = file_ext\n",
    "                format_undetermined = False\n",
    "                break\n",
    "        if format_undetermined:\n",
    "            warnings.warn('File format of ' + file_path_and_name + \n",
    "                         ' could not be determined.')\n",
    "            return None\n",
    "    else:\n",
    "        file_format = file_format.lower()\n",
    "        \n",
    "    # \n",
    "    if format == 'lhe':\n",
    "        output = read_4l_LHE_file(file_path_and_name, return_valid_event_list, final_state_dict)\n",
    "    elif file_format == 'hepmc':\n",
    "        output = read_4l_HEPMC_file(file_path_and_name, return_valid_event_list, final_state_dict)\n",
    "    elif file_format in ['dat', 'txt', 'mekd']:\n",
    "        if return_valid_event_list:\n",
    "            warnings.warn('return_valid_event_list option not implemented for MEKD input files.')\n",
    "        output = np.fromfile(file_path_and_name, dtype = 'float64', sep = \" \")\n",
    "    else:\n",
    "        warnings.warn('Could not understand file_format = ' + file_format)\n",
    "        return None\n",
    "\n",
    "    if need_to_rezip:\n",
    "        subprocess.call(['gzip', file_path_and_name])\n",
    "            \n",
    "    return output"
   ]
  },
  {
   "cell_type": "markdown",
   "metadata": {},
   "source": [
    "## Test"
   ]
  },
  {
   "cell_type": "markdown",
   "metadata": {},
   "source": [
    "Thes tests assume that this notebook is the \"processing_raw_data\" or other subdirectory of \"Machine-Learning-on-Four-Lepton-Events\", and that appropriate event files are in the raw_data subdirectory of \"Machine-Learning-on-Four-Lepton-Events\".  If these assumptions are incorrect, modify the line below to point to the approprate event files for testing."
   ]
  },
  {
   "cell_type": "code",
   "execution_count": 22,
   "metadata": {
    "collapsed": true
   },
   "outputs": [],
   "source": [
    "raw_data_path = \"../raw_data/\""
   ]
  },
  {
   "cell_type": "code",
   "execution_count": null,
   "metadata": {
    "collapsed": true
   },
   "outputs": [],
   "source": [
    "lhe_test_path_and_name = raw_data_path + \n",
    "hepmc_test_path_and_name = raw_data_path +\n",
    "mekd_test_path_and_name = raw_data_path + "
   ]
  },
  {
   "cell_type": "code",
   "execution_count": null,
   "metadata": {
    "collapsed": true
   },
   "outputs": [],
   "source": [
    "for file_format, file_path_and_name in zip(['lhe', 'hepmc', 'mekd'], \n",
    "                                           [lhe_test_path_and_name, hepmc_test_path_and_name,\n",
    "                                            mekd_test_path_and_name]):\n",
    "    for return_valid_event_list in [True, False]:\n",
    "        for file_format_argument in ['auto', ]read_4l_event_file(file_path_and_name, return_valid_event_list = False,\n",
    "                      file_format = 'auto')"
   ]
  },
  {
   "cell_type": "markdown",
   "metadata": {},
   "source": [
    "## Write Four-Momenta To MEKD-Style File"
   ]
  },
  {
   "cell_type": "markdown",
   "metadata": {},
   "source": [
    "We will not write a separate method for writing the numpy array to MEKD-style input file as this can be easily achieved using numpy.ndarray.tofile()."
   ]
  }
 ],
 "metadata": {
  "kernelspec": {
   "display_name": "Python 2",
   "language": "python",
   "name": "python2"
  },
  "language_info": {
   "codemirror_mode": {
    "name": "ipython",
    "version": 2
   },
   "file_extension": ".py",
   "mimetype": "text/x-python",
   "name": "python",
   "nbconvert_exporter": "python",
   "pygments_lexer": "ipython2",
   "version": "2.7.13"
  }
 },
 "nbformat": 4,
 "nbformat_minor": 2
}
